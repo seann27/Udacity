{
 "cells": [
  {
   "cell_type": "code",
   "execution_count": 1,
   "metadata": {},
   "outputs": [],
   "source": [
    "import numpy as np\n",
    "import pandas as pd"
   ]
  },
  {
   "cell_type": "code",
   "execution_count": 2,
   "metadata": {},
   "outputs": [
    {
     "name": "stdout",
     "output_type": "stream",
     "text": [
      "x = [1 2 3 4 5]\n"
     ]
    }
   ],
   "source": [
    "# create basic sample numpy array\n",
    "x = np.array([1,2,3,4,5])\n",
    "print('x =',x)\n"
   ]
  },
  {
   "cell_type": "code",
   "execution_count": 3,
   "metadata": {},
   "outputs": [
    {
     "name": "stdout",
     "output_type": "stream",
     "text": [
      "x has dimensions:  (5,)\n",
      "x is an object of type  <class 'numpy.ndarray'>\n",
      "The elements in x are of type:  int64\n"
     ]
    }
   ],
   "source": [
    "# the shape of an ndarray gives sizes of each dimension\n",
    "# dtypes refers to the datatypes held in the array\n",
    "print('x has dimensions: ',x.shape)\n",
    "print('x is an object of type ',type(x))\n",
    "print('The elements in x are of type: ',x.dtype)"
   ]
  },
  {
   "cell_type": "code",
   "execution_count": 4,
   "metadata": {},
   "outputs": [
    {
     "name": "stdout",
     "output_type": "stream",
     "text": [
      "x = ['Hello' 'World']\n",
      "x has dimensions:  (2,)\n",
      "x is an object of type  <class 'numpy.ndarray'>\n",
      "The elements in x are of type:  <U5\n"
     ]
    }
   ],
   "source": [
    "# ndarrays can also hold strings\n",
    "x = np.array(['Hello','World'])\n",
    "print('x =',x)\n",
    "print('x has dimensions: ',x.shape)\n",
    "print('x is an object of type ',type(x))\n",
    "print('The elements in x are of type: ',x.dtype)\n"
   ]
  },
  {
   "cell_type": "code",
   "execution_count": 5,
   "metadata": {},
   "outputs": [
    {
     "name": "stdout",
     "output_type": "stream",
     "text": [
      "x = ['1' '2' 'World']\n",
      "x has dimensions:  (3,)\n",
      "x is an object of type  <class 'numpy.ndarray'>\n",
      "The elements in x are of type:  <U21\n"
     ]
    }
   ],
   "source": [
    "# type U5 means unicode strings of 5 characters\n",
    "# numpy arrays must have elements of the same type whereas python lists can have elements of different datatypes\n",
    "x = np.array([1,2,'World'])\n",
    "print('x =',x)\n",
    "print('x has dimensions: ',x.shape)\n",
    "print('x is an object of type ',type(x))\n",
    "print('The elements in x are of type: ',x.dtype)"
   ]
  },
  {
   "cell_type": "code",
   "execution_count": 6,
   "metadata": {},
   "outputs": [
    {
     "name": "stdout",
     "output_type": "stream",
     "text": [
      "y =  [[ 1  2  3]\n",
      " [ 4  5  6]\n",
      " [ 7  8  9]\n",
      " [10 11 12]]\n",
      "Y has dimensions: (4, 3)\n",
      "Y has a total of 12 elements\n",
      "Y is an object of type: <class 'numpy.ndarray'>\n",
      "The elements in Y are of type: int64\n"
     ]
    }
   ],
   "source": [
    "# create a rank 2 ndarray from a nested python list\n",
    "y = np.array([[1,2,3],[4,5,6],[7,8,9],[10,11,12]])\n",
    "print('y = ',y)\n",
    "print('Y has dimensions:', y.shape)\n",
    "print('Y has a total of', y.size, 'elements')\n",
    "print('Y is an object of type:', type(y))\n",
    "print('The elements in Y are of type:', y.dtype)"
   ]
  },
  {
   "cell_type": "code",
   "execution_count": 7,
   "metadata": {},
   "outputs": [
    {
     "name": "stdout",
     "output_type": "stream",
     "text": [
      "The elements in x are of type: int64\n",
      "The elements in y are of type: float64\n",
      "The elements in z are of type: float64\n"
     ]
    }
   ],
   "source": [
    "# shape retursn (4,3) indicating it is a 2-dimensional array with 4 rows and 3 columns\n",
    "# creating ndarrays with floats and integers\n",
    "x = np.array([1,2,3])\n",
    "y = np.array([1.0,2.0,3.0])\n",
    "z = np.array([1,2.5,4])\n",
    "\n",
    "print('The elements in x are of type:', x.dtype)\n",
    "print('The elements in y are of type:', y.dtype)\n",
    "print('The elements in z are of type:', z.dtype)"
   ]
  },
  {
   "cell_type": "code",
   "execution_count": 8,
   "metadata": {},
   "outputs": [
    {
     "name": "stdout",
     "output_type": "stream",
     "text": [
      "x =  [1 2 3 4 5]\n",
      "The elements in x are of type: int64\n"
     ]
    }
   ],
   "source": [
    "# numpy allows you to cast an array as a specific type\n",
    "# will round floats down to floor of the integer if casting to int\n",
    "x = np.array([1.5,2.2,3.7,4.0,5.9], dtype=np.int64)\n",
    "print('x = ',x)\n",
    "print('The elements in x are of type:', x.dtype)"
   ]
  },
  {
   "cell_type": "code",
   "execution_count": 9,
   "metadata": {},
   "outputs": [],
   "source": [
    "# saving numpy arrays for later use\n",
    "x = np.array([1,2,3,4,5])\n",
    "# save into current working directory\n",
    "np.save('my_array',x)"
   ]
  },
  {
   "cell_type": "code",
   "execution_count": 10,
   "metadata": {},
   "outputs": [
    {
     "name": "stdout",
     "output_type": "stream",
     "text": [
      "y =  [1 2 3 4 5]\n",
      "y is an object of type: <class 'numpy.ndarray'>\n",
      "The elements in y are of type: int64\n"
     ]
    }
   ],
   "source": [
    "# load the saved array\n",
    "y = np.load('my_array.npy')\n",
    "print('y = ',y)\n",
    "print('y is an object of type:', type(y))\n",
    "print('The elements in y are of type:', y.dtype)"
   ]
  },
  {
   "cell_type": "code",
   "execution_count": 11,
   "metadata": {},
   "outputs": [
    {
     "name": "stdout",
     "output_type": "stream",
     "text": [
      "[[0. 0. 0. 0.]\n",
      " [0. 0. 0. 0.]\n",
      " [0. 0. 0. 0.]]\n",
      "[[1 1 1]\n",
      " [1 1 1]\n",
      " [1 1 1]\n",
      " [1 1 1]]\n",
      "[[5 5 5]\n",
      " [5 5 5]]\n",
      "[[1. 0. 0. 0. 0.]\n",
      " [0. 1. 0. 0. 0.]\n",
      " [0. 0. 1. 0. 0.]\n",
      " [0. 0. 0. 1. 0.]\n",
      " [0. 0. 0. 0. 1.]]\n",
      "[[10  0  0  0  0]\n",
      " [ 0 20  0  0  0]\n",
      " [ 0  0 30  0  0]\n",
      " [ 0  0  0 40  0]\n",
      " [ 0  0  0  0 50]]\n"
     ]
    }
   ],
   "source": [
    "# generate arrays in a varienty of ways\n",
    "x = np.zeros((3,4))\n",
    "y = np.ones((4,3),dtype=int)\n",
    "z = np.full((2,3),5)\n",
    "sq = np.eye(5)\n",
    "diag = np.diag([10,20,30,40,50])\n",
    "print(x)\n",
    "print(y)\n",
    "print(z)\n",
    "print(sq)\n",
    "print(diag)"
   ]
  },
  {
   "cell_type": "code",
   "execution_count": 12,
   "metadata": {},
   "outputs": [
    {
     "name": "stdout",
     "output_type": "stream",
     "text": [
      "[0 1 2 3 4 5 6 7 8 9]\n",
      "[10 11 12 13 14 15 16 17 18 19]\n",
      "[ 1  4  7 10 13]\n"
     ]
    }
   ],
   "source": [
    "# create arrays with ranges\n",
    "arange1 = np.arange(10)\n",
    "print(arange1)\n",
    "arange2 = np.arange(10,20)\n",
    "print(arange2)\n",
    "arange3 = np.arange(1,14,3)\n",
    "print(arange3)"
   ]
  },
  {
   "cell_type": "code",
   "execution_count": 13,
   "metadata": {},
   "outputs": [
    {
     "name": "stdout",
     "output_type": "stream",
     "text": [
      "[ 0.          2.77777778  5.55555556  8.33333333 11.11111111 13.88888889\n",
      " 16.66666667 19.44444444 22.22222222 25.        ]\n"
     ]
    }
   ],
   "source": [
    "# returns n evenly spaced numbers from start to stop (start, stop, n)\n",
    "x = np.linspace(0, 25, 10)\n",
    "print(x)"
   ]
  },
  {
   "cell_type": "code",
   "execution_count": 14,
   "metadata": {},
   "outputs": [
    {
     "name": "stdout",
     "output_type": "stream",
     "text": [
      "[ 0.   2.5  5.   7.5 10.  12.5 15.  17.5 20.  22.5]\n"
     ]
    }
   ],
   "source": [
    "x = np.linspace(0, 25, 10, endpoint=False)\n",
    "print(x)"
   ]
  },
  {
   "cell_type": "code",
   "execution_count": 15,
   "metadata": {},
   "outputs": [
    {
     "name": "stdout",
     "output_type": "stream",
     "text": [
      "[[ 0  1  2  3  4]\n",
      " [ 5  6  7  8  9]\n",
      " [10 11 12 13 14]\n",
      " [15 16 17 18 19]]\n"
     ]
    }
   ],
   "source": [
    "# reshaping arrays\n",
    "x = np.arange(20)\n",
    "x = np.reshape(x, (4,5)) # must be able to fit the number of elements evenly\n",
    "print(x)\n",
    "\n",
    "# can also chain functions -> np.arange(20).reshape(4,5)"
   ]
  },
  {
   "cell_type": "code",
   "execution_count": 16,
   "metadata": {},
   "outputs": [
    {
     "name": "stdout",
     "output_type": "stream",
     "text": [
      "[[0.57478232 0.57883054 0.39333752]\n",
      " [0.01717357 0.39857239 0.62179298]\n",
      " [0.31717846 0.0922886  0.67720763]]\n"
     ]
    }
   ],
   "source": [
    "# create an array of given shape with random floats between 0,1\n",
    "x = np.random.random((3,3))\n",
    "print(x)"
   ]
  },
  {
   "cell_type": "code",
   "execution_count": 17,
   "metadata": {},
   "outputs": [
    {
     "name": "stdout",
     "output_type": "stream",
     "text": [
      "[[14  6 12]\n",
      " [ 5  6 12]]\n"
     ]
    }
   ],
   "source": [
    "x = np.random.randint(4,15,(2,3))\n",
    "print(x)"
   ]
  },
  {
   "cell_type": "code",
   "execution_count": 18,
   "metadata": {},
   "outputs": [
    {
     "name": "stdout",
     "output_type": "stream",
     "text": [
      "[[-0.3292057  -0.25297152 -0.00623182 ...  0.0083041  -0.12762003\n",
      "   0.03690127]\n",
      " [ 0.08096837  0.02892005 -0.01015336 ... -0.06321088 -0.07193552\n",
      "   0.00926079]\n",
      " [ 0.06596912 -0.18493398 -0.07000571 ...  0.12779296 -0.0132492\n",
      "   0.02914469]\n",
      " ...\n",
      " [-0.07541813  0.01941357 -0.03418289 ... -0.03811557  0.09393645\n",
      "   0.13692379]\n",
      " [ 0.03040297 -0.04672669  0.00274861 ...  0.03500218  0.09963916\n",
      "  -0.00588076]\n",
      " [ 0.0782926   0.02184741 -0.16976572 ...  0.06406519  0.03034477\n",
      "   0.0553461 ]]\n"
     ]
    }
   ],
   "source": [
    "# creates a normally distributed 1000x1000 array with a mean of 0 and std of 0.1\n",
    "x = np.random.normal(0,0.1,size=(1000,1000))\n",
    "print(x)"
   ]
  },
  {
   "cell_type": "code",
   "execution_count": 19,
   "metadata": {},
   "outputs": [
    {
     "name": "stdout",
     "output_type": "stream",
     "text": [
      "mean:  1.1397193180173055e-05\n",
      "std:  0.0999839120257737\n",
      "max:  0.46033989257381025\n",
      "min:  -0.4672542026822278\n",
      "# pos:  499862\n",
      "# neg:  500138\n"
     ]
    }
   ],
   "source": [
    "print('mean: ',x.mean())\n",
    "print('std: ',x.std())\n",
    "print('max: ',x.max())\n",
    "print('min: ',x.min())\n",
    "print('# pos: ',(x>0).sum())\n",
    "print('# neg: ',(x<0).sum())"
   ]
  },
  {
   "cell_type": "code",
   "execution_count": 20,
   "metadata": {},
   "outputs": [
    {
     "data": {
      "text/plain": [
       "array([[ 2,  4,  6,  8],\n",
       "       [10, 12, 14, 16],\n",
       "       [18, 20, 22, 24],\n",
       "       [26, 28, 30, 32]])"
      ]
     },
     "execution_count": 20,
     "metadata": {},
     "output_type": "execute_result"
    }
   ],
   "source": [
    "X = np.arange(2,34,2).reshape(4,4)\n",
    "X"
   ]
  },
  {
   "cell_type": "code",
   "execution_count": 25,
   "metadata": {},
   "outputs": [
    {
     "name": "stdout",
     "output_type": "stream",
     "text": [
      "[[ 2  4  6  8]\n",
      " [10 12 14 16]\n",
      " [18 20 22 24]\n",
      " [26 20 30 20]]\n"
     ]
    }
   ],
   "source": [
    "# can access elements like a standard array\n",
    "# can also modify elements\n",
    "X[3][3] = 20\n",
    "print(X)"
   ]
  },
  {
   "cell_type": "code",
   "execution_count": 30,
   "metadata": {},
   "outputs": [
    {
     "name": "stdout",
     "output_type": "stream",
     "text": [
      "[ 2  4  6  8 10 12 14 16 18 20]\n",
      "[[ 2  4  6]\n",
      " [ 8 10 12]\n",
      " [14 16 18]]\n"
     ]
    }
   ],
   "source": [
    "# deleting elements\n",
    "x = np.arange(2,22,2)\n",
    "print(x)\n",
    "y = np.arange(2,20,2).reshape(3,3)\n",
    "print(y)"
   ]
  },
  {
   "cell_type": "code",
   "execution_count": 31,
   "metadata": {},
   "outputs": [
    {
     "name": "stdout",
     "output_type": "stream",
     "text": [
      "[ 4  6  8 12 14 16 18 20]\n"
     ]
    }
   ],
   "source": [
    "x = np.delete(x, [0,4])\n",
    "print(x)"
   ]
  },
  {
   "cell_type": "code",
   "execution_count": 34,
   "metadata": {},
   "outputs": [
    {
     "name": "stdout",
     "output_type": "stream",
     "text": [
      "[[ 8 10 12]\n",
      " [14 16 18]] \n",
      " [[ 4]\n",
      " [10]\n",
      " [16]]\n"
     ]
    }
   ],
   "source": [
    "W = np.delete(y, 0, axis=0)\n",
    "V = np.delete(y, [0,2], axis=1)\n",
    "print(W,'\\n',V)"
   ]
  },
  {
   "cell_type": "code",
   "execution_count": 38,
   "metadata": {},
   "outputs": [
    {
     "name": "stdout",
     "output_type": "stream",
     "text": [
      "[ 4  6  8 12 14 16 18 20  7  8  7  8  7  8  7  8]\n",
      "[[ 1  2  3]\n",
      " [ 4  5  6]\n",
      " [ 7  8  9]\n",
      " [10 11 12]]\n"
     ]
    }
   ],
   "source": [
    "# appending elements\n",
    "x = np.append(x, [7,8])\n",
    "print(x)\n",
    "\n",
    "y = np.arange(1,10).reshape(3,3)\n",
    "W = np.append(y,[[10,11,12]], axis=0)\n",
    "print(W)"
   ]
  },
  {
   "cell_type": "code",
   "execution_count": 39,
   "metadata": {},
   "outputs": [
    {
     "name": "stdout",
     "output_type": "stream",
     "text": [
      "[[ 1  2  3 10]\n",
      " [ 4  5  6 11]\n",
      " [ 7  8  9 12]]\n"
     ]
    }
   ],
   "source": [
    "V = np.append(y, [[10],[11],[12]],axis=1)\n",
    "print(V)"
   ]
  },
  {
   "cell_type": "code",
   "execution_count": 42,
   "metadata": {},
   "outputs": [
    {
     "name": "stdout",
     "output_type": "stream",
     "text": [
      "[1 2 3 4 5 6 7]\n",
      "[[1 2 3]\n",
      " [4 5 6]\n",
      " [7 8 9]]\n"
     ]
    }
   ],
   "source": [
    "# inserting elements\n",
    "x = np.array([1,2,5,6,7])\n",
    "x = np.insert(x,2,[3,4])\n",
    "print(x)\n",
    "y = np.array([[1,2,3],[7,8,9]])\n",
    "y = np.insert(y,1,[4,5,6], axis=0)\n",
    "print(y)"
   ]
  },
  {
   "cell_type": "code",
   "execution_count": 43,
   "metadata": {},
   "outputs": [],
   "source": [
    "y = np.insert(y,1,100,axis=1)"
   ]
  },
  {
   "cell_type": "code",
   "execution_count": 44,
   "metadata": {},
   "outputs": [
    {
     "name": "stdout",
     "output_type": "stream",
     "text": [
      "[[  1 100   2   3]\n",
      " [  4 100   5   6]\n",
      " [  7 100   8   9]]\n"
     ]
    }
   ],
   "source": [
    "print(y)"
   ]
  },
  {
   "cell_type": "code",
   "execution_count": 49,
   "metadata": {},
   "outputs": [
    {
     "name": "stdout",
     "output_type": "stream",
     "text": [
      "[1 2 3]\n",
      "[[ 1  2  3]\n",
      " [ 4  5  6]\n",
      " [ 7  8  9]\n",
      " [10 11 12]]\n",
      "[[ 4  5  6  1]\n",
      " [ 7  8  9  2]\n",
      " [10 11 12  3]]\n"
     ]
    }
   ],
   "source": [
    "# stacking arrays\n",
    "x = np.arange(1,4)\n",
    "print(x)\n",
    "y = np.arange(4,13).reshape(3,3)\n",
    "z = np.vstack((x,y))\n",
    "print(z)\n",
    "w = np.hstack((y,x.reshape(3,1)))\n",
    "print(w)"
   ]
  },
  {
   "cell_type": "code",
   "execution_count": 53,
   "metadata": {},
   "outputs": [
    {
     "name": "stdout",
     "output_type": "stream",
     "text": [
      "[[ 1  2  3  4  5]\n",
      " [ 6  7  8  9 10]\n",
      " [11 12 13 14 15]\n",
      " [16 17 18 19 20]]\n",
      "\n",
      "[[ 8  9 10]\n",
      " [13 14 15]\n",
      " [18 19 20]]\n",
      "\n",
      "[[ 8  9 10]\n",
      " [13 14 15]\n",
      " [18 19 20]]\n"
     ]
    }
   ],
   "source": [
    "# slicing\n",
    "# ndarray[start:end]\n",
    "# ndarray[start:]\n",
    "# ndarray[:end]\n",
    "# **NOTE** Slicing only creates a view of an existing array, \n",
    "# therefore no info is copied, slices stored in variables represent the same ndarray\n",
    "\n",
    "X = np.arange(1,21).reshape(4,5)\n",
    "z = X[1:4,2:5]\n",
    "zz = X[1:,2:]\n",
    "print(X)\n",
    "print()\n",
    "print(z)\n",
    "print()\n",
    "print(zz)"
   ]
  },
  {
   "cell_type": "code",
   "execution_count": 54,
   "metadata": {},
   "outputs": [
    {
     "name": "stdout",
     "output_type": "stream",
     "text": [
      "[[ 3  4  5]\n",
      " [ 8  9 10]\n",
      " [13 14 15]] \n",
      "\n",
      " [ 3  8 13 18]\n"
     ]
    }
   ],
   "source": [
    "y = X[:3,2:]\n",
    "yy = X[:,2]\n",
    "print(y,\"\\n\\n\",yy)"
   ]
  },
  {
   "cell_type": "code",
   "execution_count": 55,
   "metadata": {},
   "outputs": [
    {
     "name": "stdout",
     "output_type": "stream",
     "text": [
      "[[ 1  2  3  4  5]\n",
      " [ 6  7  8  9 10]\n",
      " [11 12 13 14 15]\n",
      " [16 17 18 19 20]]\n",
      "\n",
      "[[  8   9  10]\n",
      " [ 13  14  15]\n",
      " [ 18  19 555]]\n"
     ]
    }
   ],
   "source": [
    "# because slicing doesn't create copies, in order to do that we need to create a copy function\n",
    "x = np.arange(1,21).reshape(4,5)\n",
    "z = x[1:,2:].copy()\n",
    "z[2,2] = 555\n",
    "print(x)\n",
    "print()\n",
    "print(z)"
   ]
  },
  {
   "cell_type": "code",
   "execution_count": 58,
   "metadata": {},
   "outputs": [
    {
     "name": "stdout",
     "output_type": "stream",
     "text": [
      "[[ 6  7  8  9 10]\n",
      " [16 17 18 19 20]]\n"
     ]
    }
   ],
   "source": [
    "# slicing with variables\n",
    "indices = np.array([1,3])\n",
    "# will grab the second and fourth rows (1,3)\n",
    "y = x[indices,:]\n",
    "print(y)"
   ]
  },
  {
   "cell_type": "code",
   "execution_count": 59,
   "metadata": {},
   "outputs": [
    {
     "name": "stdout",
     "output_type": "stream",
     "text": [
      "[1 2 3]\n"
     ]
    }
   ],
   "source": [
    "# extracting unique elements\n",
    "X = np.array([[1,2,3],[1,2,3],[1,2,3]])\n",
    "print(np.unique(X))"
   ]
  },
  {
   "cell_type": "code",
   "execution_count": 60,
   "metadata": {},
   "outputs": [
    {
     "name": "stdout",
     "output_type": "stream",
     "text": [
      "[[ 0  1  2  3  4]\n",
      " [ 5  6  7  8  9]\n",
      " [10 11 12 13 14]\n",
      " [15 16 17 18 19]\n",
      " [20 21 22 23 24]]\n"
     ]
    }
   ],
   "source": [
    "# boolean indexing\n",
    "x = np.arange(25).reshape(5,5)\n",
    "print(x)"
   ]
  },
  {
   "cell_type": "code",
   "execution_count": 65,
   "metadata": {},
   "outputs": [
    {
     "name": "stdout",
     "output_type": "stream",
     "text": [
      "[11 12 13 14 15 16 17 18 19 20 21 22 23 24]\n",
      "\n",
      "[0 1 2 3 4 5 6 7]\n",
      "\n",
      "[11 12 13 14 15 16 17]\n",
      "\n",
      "[[ 0  1  2  3  4]\n",
      " [ 5  6  7  8  9]\n",
      " [10 -1 -1 -1 -1]\n",
      " [-1 -1 -1 18 19]\n",
      " [20 21 22 23 24]]\n"
     ]
    }
   ],
   "source": [
    "print(x[x > 10])\n",
    "print()\n",
    "print(x[x <= 7])\n",
    "print()\n",
    "print(x[(x <= 17) & (x > 10)])\n",
    "\n",
    "# can set these values too\n",
    "print()\n",
    "x[(x <= 17) & (x > 10)] = -1\n",
    "print(x)"
   ]
  },
  {
   "cell_type": "code",
   "execution_count": 67,
   "metadata": {},
   "outputs": [
    {
     "name": "stdout",
     "output_type": "stream",
     "text": [
      "[1 2 3 4 5] \n",
      "\n",
      " [5 8 5 2 7]\n"
     ]
    }
   ],
   "source": [
    "# set operations\n",
    "x = np.arange(1,6)\n",
    "y = np.random.randint(1,10,(5,))\n",
    "print(x,\"\\n\\n\",y)"
   ]
  },
  {
   "cell_type": "code",
   "execution_count": 68,
   "metadata": {},
   "outputs": [
    {
     "name": "stdout",
     "output_type": "stream",
     "text": [
      "[2 5]\n",
      "[1 3 4]\n",
      "[1 2 3 4 5 7 8]\n"
     ]
    }
   ],
   "source": [
    "print(np.intersect1d(x,y))\n",
    "print(np.setdiff1d(x,y))\n",
    "print(np.union1d(x,y))"
   ]
  },
  {
   "cell_type": "code",
   "execution_count": 71,
   "metadata": {},
   "outputs": [
    {
     "name": "stdout",
     "output_type": "stream",
     "text": [
      "[ 9  1  6  3  5  6 10  8  2  6]\n",
      "\n",
      "[ 1  2  3  5  6  6  6  8  9 10]\n",
      "\n",
      "[ 1  2  3  5  6  6  6  8  9 10]\n"
     ]
    }
   ],
   "source": [
    "# sort arrays\n",
    "# sort as a function -> sorts array out of place\n",
    "# sort as a method -> array is sorted in place\n",
    "x = np.random.randint(1,11, size=(10,))\n",
    "print(x)\n",
    "print()\n",
    "# as a function\n",
    "print(np.sort(x))\n",
    "print()\n",
    "# as a method (this will change x)\n",
    "x.sort()\n",
    "print(x)"
   ]
  },
  {
   "cell_type": "code",
   "execution_count": 72,
   "metadata": {},
   "outputs": [
    {
     "name": "stdout",
     "output_type": "stream",
     "text": [
      "[[ 7 29 57 22  2]\n",
      " [37 88 76 99 72]\n",
      " [44 22 18 33 55]\n",
      " [91 65 80 89 29]\n",
      " [98 72 53 14 73]]\n",
      "\n",
      "[[ 7 22 18 14  2]\n",
      " [37 29 53 22 29]\n",
      " [44 65 57 33 55]\n",
      " [91 72 76 89 72]\n",
      " [98 88 80 99 73]]\n",
      "\n",
      "[[ 2  7 22 29 57]\n",
      " [37 72 76 88 99]\n",
      " [18 22 33 44 55]\n",
      " [29 65 80 89 91]\n",
      " [14 53 72 73 98]]\n"
     ]
    }
   ],
   "source": [
    "# sorting 2 dimensional arrays\n",
    "# uses the keyword axis (0 -> row,1 -> col)\n",
    "x = np.random.randint(1,100,size=(5,5))\n",
    "print(x)\n",
    "print()\n",
    "print(np.sort(x,axis=0))\n",
    "print()\n",
    "print(np.sort(x,axis=1))"
   ]
  },
  {
   "cell_type": "code",
   "execution_count": 76,
   "metadata": {},
   "outputs": [
    {
     "name": "stdout",
     "output_type": "stream",
     "text": [
      "[1 2 3 4]\n",
      "[5 6 7 8]\n",
      "\n",
      "[ 6  8 10 12]\n",
      "[ 6  8 10 12]\n",
      "\n",
      "[-4 -4 -4 -4]\n",
      "[-4 -4 -4 -4]\n",
      "\n",
      "[ 5 12 21 32]\n",
      "[ 5 12 21 32]\n",
      "\n",
      "[0.2        0.33333333 0.42857143 0.5       ]\n",
      "[0.2        0.33333333 0.42857143 0.5       ]\n",
      "\n"
     ]
    }
   ],
   "source": [
    "# arithmetic operations\n",
    "x = np.arange(1,5)\n",
    "y = np.arange(5,9)\n",
    "print(x)\n",
    "print(y)\n",
    "print()\n",
    "# do the same thing\n",
    "print(x+y)\n",
    "# but if you use function, can make slight tweaks\n",
    "print(np.add(x,y))\n",
    "print()\n",
    "print(x-y)\n",
    "print(np.subtract(x,y))\n",
    "print()\n",
    "print(x*y)\n",
    "print(np.multiply(x,y))\n",
    "print()\n",
    "print(x/y)\n",
    "print(np.divide(x,y))\n",
    "print()"
   ]
  },
  {
   "cell_type": "code",
   "execution_count": 88,
   "metadata": {},
   "outputs": [
    {
     "name": "stdout",
     "output_type": "stream",
     "text": [
      "[[1.         1.41421356]\n",
      " [1.73205081 2.        ]]\n",
      "[[ 2.71828183  7.3890561 ]\n",
      " [20.08553692 54.59815003]]\n",
      "[[ 1  4]\n",
      " [ 9 16]]\n",
      "\n",
      "avg:  2.5\n",
      "[[1 2]\n",
      " [3 4]]\n",
      "avg per col:  [2. 3.]\n",
      "avg per row:  [1.5 3.5]\n",
      "\n",
      "sum:  10\n",
      "sum per col:  [4 6]\n",
      "sum per row:  [3 7]\n",
      "\n",
      "std:  1.118033988749895\n",
      "\n",
      "median:  2.5\n",
      "\n",
      "max:  4\n",
      "min:  1\n"
     ]
    }
   ],
   "source": [
    "# arrays must be same shape or 'broadcastable'\n",
    "# other examples of math functions\n",
    "print(np.sqrt(x))\n",
    "print(np.exp(x))\n",
    "print(np.power(x,2))\n",
    "print()\n",
    "print('avg: ',x.mean())\n",
    "x = np.reshape(x, (2,2))\n",
    "print(x)\n",
    "print('avg per col: ',x.mean(axis=0))\n",
    "print('avg per row: ',x.mean(axis=1))\n",
    "print()\n",
    "# sum and std\n",
    "print('sum: ',x.sum())\n",
    "print('sum per col: ',x.sum(axis=0))\n",
    "print('sum per row: ',x.sum(axis=1))\n",
    "print()\n",
    "print('std: ',x.std())\n",
    "print()\n",
    "print('median: ',np.median(x))\n",
    "print()\n",
    "print('max: ',x.max())\n",
    "print('min: ',x.min())"
   ]
  },
  {
   "cell_type": "code",
   "execution_count": 93,
   "metadata": {},
   "outputs": [
    {
     "name": "stdout",
     "output_type": "stream",
     "text": [
      "[0 1 2]\n",
      "\n",
      "[[0 1 2]\n",
      " [3 4 5]\n",
      " [6 7 8]]\n",
      "\n",
      "[[ 0  2  4]\n",
      " [ 3  5  7]\n",
      " [ 6  8 10]]\n"
     ]
    }
   ],
   "source": [
    "# broadcasting\n",
    "x = np.arange(3)\n",
    "y = np.arange(9).reshape(3,3)\n",
    "print(x)\n",
    "print()\n",
    "print(y)\n",
    "print()\n",
    "print(y+x)"
   ]
  },
  {
   "cell_type": "code",
   "execution_count": 98,
   "metadata": {},
   "outputs": [
    {
     "name": "stdout",
     "output_type": "stream",
     "text": [
      "[[1. 2. 3. 4.]\n",
      " [1. 2. 3. 4.]\n",
      " [1. 2. 3. 4.]\n",
      " [1. 2. 3. 4.]]\n"
     ]
    }
   ],
   "source": [
    "# quiz\n",
    "x = np.zeros((4,4))\n",
    "y = np.arange(1,5)\n",
    "print(x+y)"
   ]
  },
  {
   "cell_type": "code",
   "execution_count": 101,
   "metadata": {},
   "outputs": [
    {
     "name": "stdout",
     "output_type": "stream",
     "text": [
      "[[1. 2. 3. 4.]\n",
      " [1. 2. 3. 4.]\n",
      " [1. 2. 3. 4.]\n",
      " [1. 2. 3. 4.]]\n"
     ]
    }
   ],
   "source": [
    "# quiz solution\n",
    "X = np.ones((4,4)) * np.arange(1,5)\n",
    "print(X)"
   ]
  },
  {
   "cell_type": "code",
   "execution_count": 102,
   "metadata": {},
   "outputs": [
    {
     "name": "stdout",
     "output_type": "stream",
     "text": [
      "(4, 4)\n"
     ]
    }
   ],
   "source": [
    "print(X.shape)"
   ]
  },
  {
   "cell_type": "code",
   "execution_count": 103,
   "metadata": {},
   "outputs": [
    {
     "name": "stdout",
     "output_type": "stream",
     "text": [
      "4\n"
     ]
    }
   ],
   "source": [
    "print(X.shape[0])"
   ]
  },
  {
   "cell_type": "code",
   "execution_count": null,
   "metadata": {},
   "outputs": [],
   "source": []
  }
 ],
 "metadata": {
  "kernelspec": {
   "display_name": "Python 3",
   "language": "python",
   "name": "python3"
  },
  "language_info": {
   "codemirror_mode": {
    "name": "ipython",
    "version": 3
   },
   "file_extension": ".py",
   "mimetype": "text/x-python",
   "name": "python",
   "nbconvert_exporter": "python",
   "pygments_lexer": "ipython3",
   "version": "3.7.3"
  }
 },
 "nbformat": 4,
 "nbformat_minor": 2
}
