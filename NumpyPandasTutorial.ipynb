{
 "cells": [
  {
   "cell_type": "code",
   "execution_count": 13,
   "metadata": {},
   "outputs": [],
   "source": [
    "import numpy as np\n",
    "import pandas as pd"
   ]
  },
  {
   "cell_type": "code",
   "execution_count": 14,
   "metadata": {},
   "outputs": [
    {
     "name": "stdout",
     "output_type": "stream",
     "text": [
      "x = [1 2 3 4 5]\n"
     ]
    }
   ],
   "source": [
    "# create basic sample numpy array\n",
    "x = np.array([1,2,3,4,5])\n",
    "print('x =',x)\n"
   ]
  },
  {
   "cell_type": "code",
   "execution_count": 15,
   "metadata": {},
   "outputs": [
    {
     "name": "stdout",
     "output_type": "stream",
     "text": [
      "x has dimensions:  (5,)\n",
      "x is an object of type  <class 'numpy.ndarray'>\n",
      "The elements in x are of type:  int64\n"
     ]
    }
   ],
   "source": [
    "# the shape of an ndarray gives sizes of each dimension\n",
    "# dtypes refers to the datatypes held in the array\n",
    "print('x has dimensions: ',x.shape)\n",
    "print('x is an object of type ',type(x))\n",
    "print('The elements in x are of type: ',x.dtype)"
   ]
  },
  {
   "cell_type": "code",
   "execution_count": 16,
   "metadata": {},
   "outputs": [
    {
     "name": "stdout",
     "output_type": "stream",
     "text": [
      "x = ['Hello' 'World']\n",
      "x has dimensions:  (2,)\n",
      "x is an object of type  <class 'numpy.ndarray'>\n",
      "The elements in x are of type:  <U5\n"
     ]
    }
   ],
   "source": [
    "# ndarrays can also hold strings\n",
    "x = np.array(['Hello','World'])\n",
    "print('x =',x)\n",
    "print('x has dimensions: ',x.shape)\n",
    "print('x is an object of type ',type(x))\n",
    "print('The elements in x are of type: ',x.dtype)\n"
   ]
  },
  {
   "cell_type": "code",
   "execution_count": 18,
   "metadata": {},
   "outputs": [
    {
     "name": "stdout",
     "output_type": "stream",
     "text": [
      "x = ['1' '2' 'World']\n",
      "x has dimensions:  (3,)\n",
      "x is an object of type  <class 'numpy.ndarray'>\n",
      "The elements in x are of type:  <U21\n"
     ]
    }
   ],
   "source": [
    "# type U5 means unicode strings of 5 characters\n",
    "# numpy arrays must have elements of the same type whereas python lists can have elements of different datatypes\n",
    "x = np.array([1,2,'World'])\n",
    "print('x =',x)\n",
    "print('x has dimensions: ',x.shape)\n",
    "print('x is an object of type ',type(x))\n",
    "print('The elements in x are of type: ',x.dtype)"
   ]
  },
  {
   "cell_type": "code",
   "execution_count": 21,
   "metadata": {},
   "outputs": [
    {
     "name": "stdout",
     "output_type": "stream",
     "text": [
      "y =  [[ 1  2  3]\n",
      " [ 4  5  6]\n",
      " [ 7  8  9]\n",
      " [10 11 12]]\n",
      "Y has dimensions: (4, 3)\n",
      "Y has a total of 12 elements\n",
      "Y is an object of type: <class 'numpy.ndarray'>\n",
      "The elements in Y are of type: int64\n"
     ]
    }
   ],
   "source": [
    "# create a rank 2 ndarray from a nested python list\n",
    "y = np.array([[1,2,3],[4,5,6],[7,8,9],[10,11,12]])\n",
    "print('y = ',y)\n",
    "print('Y has dimensions:', y.shape)\n",
    "print('Y has a total of', y.size, 'elements')\n",
    "print('Y is an object of type:', type(y))\n",
    "print('The elements in Y are of type:', y.dtype)"
   ]
  },
  {
   "cell_type": "code",
   "execution_count": 22,
   "metadata": {},
   "outputs": [
    {
     "name": "stdout",
     "output_type": "stream",
     "text": [
      "The elements in x are of type: int64\n",
      "The elements in y are of type: float64\n",
      "The elements in z are of type: float64\n"
     ]
    }
   ],
   "source": [
    "# shape retursn (4,3) indicating it is a 2-dimensional array with 4 rows and 3 columns\n",
    "# creating ndarrays with floats and integers\n",
    "x = np.array([1,2,3])\n",
    "y = np.array([1.0,2.0,3.0])\n",
    "z = np.array([1,2.5,4])\n",
    "\n",
    "print('The elements in x are of type:', x.dtype)\n",
    "print('The elements in y are of type:', y.dtype)\n",
    "print('The elements in z are of type:', z.dtype)"
   ]
  },
  {
   "cell_type": "code",
   "execution_count": 24,
   "metadata": {},
   "outputs": [
    {
     "name": "stdout",
     "output_type": "stream",
     "text": [
      "x =  [1 2 3 4 5]\n",
      "The elements in x are of type: int64\n"
     ]
    }
   ],
   "source": [
    "# numpy allows you to cast an array as a specific type\n",
    "# will round floats down to floor of the integer if casting to int\n",
    "x = np.array([1.5,2.2,3.7,4.0,5.9], dtype=np.int64)\n",
    "print('x = ',x)\n",
    "print('The elements in x are of type:', x.dtype)"
   ]
  },
  {
   "cell_type": "code",
   "execution_count": 25,
   "metadata": {},
   "outputs": [],
   "source": [
    "# saving numpy arrays for later use\n",
    "x = np.array([1,2,3,4,5])\n",
    "# save into current working directory\n",
    "np.save('my_array',x)"
   ]
  },
  {
   "cell_type": "code",
   "execution_count": 26,
   "metadata": {},
   "outputs": [
    {
     "name": "stdout",
     "output_type": "stream",
     "text": [
      "y =  [1 2 3 4 5]\n",
      "y is an object of type: <class 'numpy.ndarray'>\n",
      "The elements in y are of type: int64\n"
     ]
    }
   ],
   "source": [
    "# load the saved array\n",
    "y = np.load('my_array.npy')\n",
    "print('y = ',y)\n",
    "print('y is an object of type:', type(y))\n",
    "print('The elements in y are of type:', y.dtype)"
   ]
  },
  {
   "cell_type": "code",
   "execution_count": 31,
   "metadata": {},
   "outputs": [
    {
     "name": "stdout",
     "output_type": "stream",
     "text": [
      "[[0. 0. 0. 0.]\n",
      " [0. 0. 0. 0.]\n",
      " [0. 0. 0. 0.]]\n",
      "[[1 1 1]\n",
      " [1 1 1]\n",
      " [1 1 1]\n",
      " [1 1 1]]\n",
      "[[5 5 5]\n",
      " [5 5 5]]\n",
      "[[1. 0. 0. 0. 0.]\n",
      " [0. 1. 0. 0. 0.]\n",
      " [0. 0. 1. 0. 0.]\n",
      " [0. 0. 0. 1. 0.]\n",
      " [0. 0. 0. 0. 1.]]\n",
      "[[10  0  0  0  0]\n",
      " [ 0 20  0  0  0]\n",
      " [ 0  0 30  0  0]\n",
      " [ 0  0  0 40  0]\n",
      " [ 0  0  0  0 50]]\n"
     ]
    }
   ],
   "source": [
    "# generate arrays in a varienty of ways\n",
    "x = np.zeros((3,4))\n",
    "y = np.ones((4,3),dtype=int)\n",
    "z = np.full((2,3),5)\n",
    "sq = np.eye(5)\n",
    "diag = np.diag([10,20,30,40,50])\n",
    "print(x)\n",
    "print(y)\n",
    "print(z)\n",
    "print(sq)\n",
    "print(diag)"
   ]
  },
  {
   "cell_type": "code",
   "execution_count": 34,
   "metadata": {},
   "outputs": [
    {
     "name": "stdout",
     "output_type": "stream",
     "text": [
      "[0 1 2 3 4 5 6 7 8 9]\n",
      "[10 11 12 13 14 15 16 17 18 19]\n",
      "[ 1  4  7 10 13]\n"
     ]
    }
   ],
   "source": [
    "# create arrays with ranges\n",
    "arange1 = np.arange(10)\n",
    "print(arange1)\n",
    "arange2 = np.arange(10,20)\n",
    "print(arange2)\n",
    "arange3 = np.arange(1,14,3)\n",
    "print(arange3)"
   ]
  },
  {
   "cell_type": "code",
   "execution_count": 36,
   "metadata": {},
   "outputs": [
    {
     "data": {
      "text/plain": [
       "array([ 0.        ,  2.77777778,  5.55555556,  8.33333333, 11.11111111,\n",
       "       13.88888889, 16.66666667, 19.44444444, 22.22222222, 25.        ])"
      ]
     },
     "execution_count": 36,
     "metadata": {},
     "output_type": "execute_result"
    }
   ],
   "source": [
    "# returns n evenly spaced numbers from start to stop (start, stop, n)\n",
    "x = np.linspace(0, 25, 10)\n",
    "print(x)"
   ]
  },
  {
   "cell_type": "code",
   "execution_count": 37,
   "metadata": {},
   "outputs": [
    {
     "name": "stdout",
     "output_type": "stream",
     "text": [
      "[ 0.   2.5  5.   7.5 10.  12.5 15.  17.5 20.  22.5]\n"
     ]
    }
   ],
   "source": [
    "x = np.linspace(0, 25, 10, endpoint=False)\n",
    "print(x)"
   ]
  },
  {
   "cell_type": "code",
   "execution_count": 38,
   "metadata": {},
   "outputs": [
    {
     "name": "stdout",
     "output_type": "stream",
     "text": [
      "[[ 0  1  2  3  4]\n",
      " [ 5  6  7  8  9]\n",
      " [10 11 12 13 14]\n",
      " [15 16 17 18 19]]\n"
     ]
    }
   ],
   "source": [
    "# reshaping arrays\n",
    "x = np.arange(20)\n",
    "x = np.reshape(x, (4,5)) # must be able to fit the number of elements evenly\n",
    "print(x)\n",
    "\n",
    "# can also chain functions -> np.arange(20).reshape(4,5)"
   ]
  },
  {
   "cell_type": "code",
   "execution_count": 39,
   "metadata": {},
   "outputs": [
    {
     "name": "stdout",
     "output_type": "stream",
     "text": [
      "[[0.91531346 0.41296468 0.00870011]\n",
      " [0.45322385 0.29807854 0.26695402]\n",
      " [0.85485706 0.96198183 0.74471095]]\n"
     ]
    }
   ],
   "source": [
    "# create an array of given shape with random floats between 0,1\n",
    "x = np.random.random((3,3))\n",
    "print(x)"
   ]
  },
  {
   "cell_type": "code",
   "execution_count": 40,
   "metadata": {},
   "outputs": [
    {
     "name": "stdout",
     "output_type": "stream",
     "text": [
      "[[ 4 11 11]\n",
      " [10  8  4]]\n"
     ]
    }
   ],
   "source": [
    "x = np.random.randint(4,15,(2,3))\n",
    "print(x)"
   ]
  },
  {
   "cell_type": "code",
   "execution_count": 42,
   "metadata": {},
   "outputs": [
    {
     "name": "stdout",
     "output_type": "stream",
     "text": [
      "[[-0.1466357   0.08777671  0.00065643 ... -0.09396441  0.16604547\n",
      "  -0.00712217]\n",
      " [-0.0415175   0.03562506 -0.05818826 ... -0.11752209  0.09301531\n",
      "   0.02878047]\n",
      " [-0.14147834  0.23674714  0.15383665 ... -0.04657352  0.00155673\n",
      "  -0.09949697]\n",
      " ...\n",
      " [ 0.23240331 -0.0930949   0.00361195 ... -0.08472727  0.08908859\n",
      "  -0.08689434]\n",
      " [-0.08639766 -0.1846168  -0.08263979 ...  0.00289     0.1585614\n",
      "  -0.01527066]\n",
      " [-0.00604127  0.05737188  0.03841799 ...  0.04550251  0.02226173\n",
      "   0.03758391]]\n"
     ]
    }
   ],
   "source": [
    "# creates a normally distributed 1000x1000 array with a mean of 0 and std of 0.1\n",
    "x = np.random.normal(0,0.1,size=(1000,1000))\n",
    "print(x)"
   ]
  },
  {
   "cell_type": "code",
   "execution_count": 43,
   "metadata": {},
   "outputs": [
    {
     "name": "stdout",
     "output_type": "stream",
     "text": [
      "mean:  1.1371840150657328e-05\n",
      "std:  0.09993192283253433\n",
      "max:  0.48733939171080637\n",
      "min:  -0.4819780473430134\n",
      "# pos:  499793\n",
      "# neg:  500207\n"
     ]
    }
   ],
   "source": [
    "print('mean: ',x.mean())\n",
    "print('std: ',x.std())\n",
    "print('max: ',x.max())\n",
    "print('min: ',x.min())\n",
    "print('# pos: ',(x>0).sum())\n",
    "print('# neg: ',(x<0).sum())"
   ]
  },
  {
   "cell_type": "code",
   "execution_count": 49,
   "metadata": {},
   "outputs": [
    {
     "data": {
      "text/plain": [
       "array([[ 2,  4,  6,  8],\n",
       "       [10, 12, 14, 16],\n",
       "       [18, 20, 22, 24],\n",
       "       [26, 28, 30, 32]])"
      ]
     },
     "execution_count": 49,
     "metadata": {},
     "output_type": "execute_result"
    }
   ],
   "source": [
    "X = np.arange(2,34,2).reshape(4,4)\n",
    "X"
   ]
  },
  {
   "cell_type": "code",
   "execution_count": null,
   "metadata": {},
   "outputs": [],
   "source": []
  }
 ],
 "metadata": {
  "kernelspec": {
   "display_name": "Python 3",
   "language": "python",
   "name": "python3"
  },
  "language_info": {
   "codemirror_mode": {
    "name": "ipython",
    "version": 3
   },
   "file_extension": ".py",
   "mimetype": "text/x-python",
   "name": "python",
   "nbconvert_exporter": "python",
   "pygments_lexer": "ipython3",
   "version": "3.7.3"
  }
 },
 "nbformat": 4,
 "nbformat_minor": 2
}
