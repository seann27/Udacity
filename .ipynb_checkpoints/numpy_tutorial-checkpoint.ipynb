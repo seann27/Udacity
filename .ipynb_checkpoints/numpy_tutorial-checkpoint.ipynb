{
 "cells": [
  {
   "cell_type": "code",
   "execution_count": 13,
   "metadata": {},
   "outputs": [],
   "source": [
    "import numpy as np\n",
    "import pandas as pd"
   ]
  },
  {
   "cell_type": "code",
   "execution_count": 14,
   "metadata": {},
   "outputs": [
    {
     "name": "stdout",
     "output_type": "stream",
     "text": [
      "x = [1 2 3 4 5]\n"
     ]
    }
   ],
   "source": [
    "# create basic sample numpy array\n",
    "x = np.array([1,2,3,4,5])\n",
    "print('x =',x)\n"
   ]
  },
  {
   "cell_type": "code",
   "execution_count": 15,
   "metadata": {},
   "outputs": [
    {
     "name": "stdout",
     "output_type": "stream",
     "text": [
      "x has dimensions:  (5,)\n",
      "x is an object of type  <class 'numpy.ndarray'>\n",
      "The elements in x are of type:  int64\n"
     ]
    }
   ],
   "source": [
    "# the shape of an ndarray gives sizes of each dimension\n",
    "# dtypes refers to the datatypes held in the array\n",
    "print('x has dimensions: ',x.shape)\n",
    "print('x is an object of type ',type(x))\n",
    "print('The elements in x are of type: ',x.dtype)"
   ]
  },
  {
   "cell_type": "code",
   "execution_count": 16,
   "metadata": {},
   "outputs": [
    {
     "name": "stdout",
     "output_type": "stream",
     "text": [
      "x = ['Hello' 'World']\n",
      "x has dimensions:  (2,)\n",
      "x is an object of type  <class 'numpy.ndarray'>\n",
      "The elements in x are of type:  <U5\n"
     ]
    }
   ],
   "source": [
    "# ndarrays can also hold strings\n",
    "x = np.array(['Hello','World'])\n",
    "print('x =',x)\n",
    "print('x has dimensions: ',x.shape)\n",
    "print('x is an object of type ',type(x))\n",
    "print('The elements in x are of type: ',x.dtype)\n"
   ]
  },
  {
   "cell_type": "code",
   "execution_count": 18,
   "metadata": {},
   "outputs": [
    {
     "name": "stdout",
     "output_type": "stream",
     "text": [
      "x = ['1' '2' 'World']\n",
      "x has dimensions:  (3,)\n",
      "x is an object of type  <class 'numpy.ndarray'>\n",
      "The elements in x are of type:  <U21\n"
     ]
    }
   ],
   "source": [
    "# type U5 means unicode strings of 5 characters\n",
    "# numpy arrays must have elements of the same type whereas python lists can have elements of different datatypes\n",
    "x = np.array([1,2,'World'])\n",
    "print('x =',x)\n",
    "print('x has dimensions: ',x.shape)\n",
    "print('x is an object of type ',type(x))\n",
    "print('The elements in x are of type: ',x.dtype)"
   ]
  },
  {
   "cell_type": "code",
   "execution_count": 21,
   "metadata": {},
   "outputs": [
    {
     "name": "stdout",
     "output_type": "stream",
     "text": [
      "y =  [[ 1  2  3]\n",
      " [ 4  5  6]\n",
      " [ 7  8  9]\n",
      " [10 11 12]]\n",
      "Y has dimensions: (4, 3)\n",
      "Y has a total of 12 elements\n",
      "Y is an object of type: <class 'numpy.ndarray'>\n",
      "The elements in Y are of type: int64\n"
     ]
    }
   ],
   "source": [
    "# create a rank 2 ndarray from a nested python list\n",
    "y = np.array([[1,2,3],[4,5,6],[7,8,9],[10,11,12]])\n",
    "print('y = ',y)\n",
    "print('Y has dimensions:', y.shape)\n",
    "print('Y has a total of', y.size, 'elements')\n",
    "print('Y is an object of type:', type(y))\n",
    "print('The elements in Y are of type:', y.dtype)"
   ]
  },
  {
   "cell_type": "code",
   "execution_count": null,
   "metadata": {},
   "outputs": [],
   "source": [
    "# shape retursn (4,3) indicating it is a 2-dimensional array with 4 rows and 3 columns\n",
    "# creating ndarrays with floats and integers"
   ]
  }
 ],
 "metadata": {
  "kernelspec": {
   "display_name": "Python 3",
   "language": "python",
   "name": "python3"
  },
  "language_info": {
   "codemirror_mode": {
    "name": "ipython",
    "version": 3
   },
   "file_extension": ".py",
   "mimetype": "text/x-python",
   "name": "python",
   "nbconvert_exporter": "python",
   "pygments_lexer": "ipython3",
   "version": "3.7.3"
  }
 },
 "nbformat": 4,
 "nbformat_minor": 2
}
